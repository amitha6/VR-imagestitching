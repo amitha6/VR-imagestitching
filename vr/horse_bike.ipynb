{
 "cells": [
  {
   "cell_type": "code",
   "execution_count": 216,
   "id": "d35cc3b1",
   "metadata": {},
   "outputs": [],
   "source": [
    "import cv2\n",
    "import os\n",
    "import numpy as np\n",
    "from sklearn.cluster import KMeans\n",
    "from sklearn import svm\n",
    "from sklearn.model_selection import train_test_split\n",
    "import pickle"
   ]
  },
  {
   "cell_type": "code",
   "execution_count": 217,
   "id": "549fd205",
   "metadata": {},
   "outputs": [],
   "source": [
    "rdir_path = './newData'"
   ]
  },
  {
   "cell_type": "code",
   "execution_count": 218,
   "id": "4b94e97f",
   "metadata": {},
   "outputs": [],
   "source": [
    "imgs = []\n",
    "labels = []\n",
    "label = -1\n",
    "onlyDirs = [f for f in os.listdir(rdir_path) if os.path.isdir(os.path.join(rdir_path, f))]\n",
    "for directory in onlyDirs:\n",
    "    label = label + 1\n",
    "    path = rdir_path+'/'+directory\n",
    "    onlyfiles = [f for f in os.listdir(path) if os.path.isfile(os.path.join(path, f))]\n",
    "    for file in onlyfiles:\n",
    "        imgPath = path+'/'+file\n",
    "        imgs.append(imgPath)\n",
    "        labels.append(label)"
   ]
  },
  {
   "cell_type": "code",
   "execution_count": 219,
   "id": "644c1d83",
   "metadata": {},
   "outputs": [
    {
     "name": "stdout",
     "output_type": "stream",
     "text": [
      "179\n"
     ]
    }
   ],
   "source": [
    "print(len(imgs))"
   ]
  },
  {
   "cell_type": "code",
   "execution_count": 220,
   "id": "d94482fc",
   "metadata": {},
   "outputs": [],
   "source": [
    "def getdescriptors(imgs):\n",
    "    descriptors = np.asarray([])\n",
    "    extractor = cv2.SIFT_create()\n",
    "    #i = 0\n",
    "    for img in imgs:\n",
    "        gray = cv2.cvtColor(img,cv2.COLOR_RGB2GRAY)\n",
    "        kp, desc = extractor.detectAndCompute(gray, None)\n",
    "        if type(desc) == np.ndarray :\n",
    "            if descriptors.shape[0] == 0:\n",
    "                descriptors = desc\n",
    "            else:\n",
    "                descriptors = np.concatenate((descriptors, desc), axis=0)\n",
    "    return descriptors"
   ]
  },
  {
   "cell_type": "code",
   "execution_count": 221,
   "id": "8e51b001",
   "metadata": {},
   "outputs": [],
   "source": [
    "def getfeatures(imgs,vocab):\n",
    "    bbok = []\n",
    "    extractor = cv2.SIFT_create()\n",
    "    for img in imgs:\n",
    "        bok = [0]*nClusters\n",
    "        keypoints, descriptors = extractor.detectAndCompute(img, None)\n",
    "        if type(descriptors) == np.ndarray:\n",
    "            pred = vocab.predict(descriptors)\n",
    "            for ele in pred:\n",
    "                bok[ele] = bok[ele] + 1\n",
    "        bbok.append(bok)\n",
    "    return  np.asarray(bbok)"
   ]
  },
  {
   "cell_type": "code",
   "execution_count": 222,
   "id": "4bd158bb",
   "metadata": {},
   "outputs": [],
   "source": [
    "trainImgPaths,testImgPaths, trainLabels, testLabels = train_test_split(imgs, labels, \n",
    "                                                train_size=0.8, random_state=42,shuffle = True,stratify = labels)"
   ]
  },
  {
   "cell_type": "code",
   "execution_count": 243,
   "id": "bc5fb02a",
   "metadata": {},
   "outputs": [],
   "source": [
    "nClusters = 80\n",
    "train_imgs = []\n",
    "for imgName in trainImgPaths:\n",
    "    img = cv2.imread(imgName)\n",
    "    train_imgs.append(img)\n",
    "train_imgs = np.asarray(train_imgs)"
   ]
  },
  {
   "cell_type": "code",
   "execution_count": 253,
   "id": "afd093fb",
   "metadata": {},
   "outputs": [
    {
     "data": {
      "text/plain": [
       "KMeans(n_clusters=80)"
      ]
     },
     "execution_count": 253,
     "metadata": {},
     "output_type": "execute_result"
    }
   ],
   "source": [
    "descriptors = getdescriptors(train_imgs)\n",
    "kmeans = KMeans(n_clusters = nClusters)\n",
    "kmeans.fit(descriptors)"
   ]
  },
  {
   "cell_type": "code",
   "execution_count": 254,
   "id": "276bf97c",
   "metadata": {},
   "outputs": [],
   "source": [
    "train_features = getfeatures(trainImgs,kmeans)"
   ]
  },
  {
   "cell_type": "code",
   "execution_count": 255,
   "id": "e7c0aaee",
   "metadata": {},
   "outputs": [
    {
     "data": {
      "text/plain": [
       "SVC(C=0.1, kernel='linear')"
      ]
     },
     "execution_count": 255,
     "metadata": {},
     "output_type": "execute_result"
    }
   ],
   "source": [
    "model = svm.SVC(C=0.1,kernel='linear')\n",
    "model.fit(train_features,trainLabels)"
   ]
  },
  {
   "cell_type": "code",
   "execution_count": 247,
   "id": "d12aa6f6",
   "metadata": {},
   "outputs": [],
   "source": [
    "testImgs = []\n",
    "for imgName in testImgPaths:\n",
    "    img = cv2.imread(imgName)\n",
    "    testImgs.append(img)\n",
    "testImgs = np.asarray(testImgs)\n",
    "test_features = getfeatures(testImgs,kmeans)"
   ]
  },
  {
   "cell_type": "code",
   "execution_count": 248,
   "id": "816d1e15",
   "metadata": {},
   "outputs": [
    {
     "name": "stdout",
     "output_type": "stream",
     "text": [
      "0.9444444444444444\n"
     ]
    }
   ],
   "source": [
    "acc = model.score(test_features,testLabels)\n",
    "print(acc)"
   ]
  },
  {
   "cell_type": "code",
   "execution_count": 249,
   "id": "63305f8a",
   "metadata": {},
   "outputs": [
    {
     "data": {
      "text/plain": [
       "KNeighborsClassifier(n_neighbors=10)"
      ]
     },
     "execution_count": 249,
     "metadata": {},
     "output_type": "execute_result"
    }
   ],
   "source": [
    "from sklearn.neighbors import KNeighborsClassifier\n",
    "neigh = KNeighborsClassifier(n_neighbors=10)\n",
    "neigh.fit(train_features,trainLabels)"
   ]
  },
  {
   "cell_type": "code",
   "execution_count": 250,
   "id": "3de58c1f",
   "metadata": {},
   "outputs": [
    {
     "name": "stdout",
     "output_type": "stream",
     "text": [
      "0.9166666666666666\n"
     ]
    }
   ],
   "source": [
    "acck = neigh.score(test_features,testLabels)\n",
    "print(acck)"
   ]
  },
  {
   "cell_type": "code",
   "execution_count": 251,
   "id": "3b285adf",
   "metadata": {},
   "outputs": [],
   "source": [
    "from sklearn.linear_model import LogisticRegression\n",
    "clf = LogisticRegression(random_state=0, max_iter = 5000).fit(train_features,trainLabels)"
   ]
  },
  {
   "cell_type": "code",
   "execution_count": 252,
   "id": "74220963",
   "metadata": {},
   "outputs": [
    {
     "name": "stdout",
     "output_type": "stream",
     "text": [
      "0.9444444444444444\n"
     ]
    }
   ],
   "source": [
    "acclr = clf.score(test_features,testLabels)\n",
    "print(acclr)"
   ]
  },
  {
   "cell_type": "code",
   "execution_count": null,
   "id": "3992229c",
   "metadata": {},
   "outputs": [],
   "source": []
  }
 ],
 "metadata": {
  "kernelspec": {
   "display_name": "Python 3 (ipykernel)",
   "language": "python",
   "name": "python3"
  },
  "language_info": {
   "codemirror_mode": {
    "name": "ipython",
    "version": 3
   },
   "file_extension": ".py",
   "mimetype": "text/x-python",
   "name": "python",
   "nbconvert_exporter": "python",
   "pygments_lexer": "ipython3",
   "version": "3.8.10"
  }
 },
 "nbformat": 4,
 "nbformat_minor": 5
}
